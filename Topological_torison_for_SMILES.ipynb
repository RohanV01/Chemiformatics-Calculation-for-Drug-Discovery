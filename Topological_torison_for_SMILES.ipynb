{
 "cells": [
  {
   "cell_type": "code",
   "execution_count": 2,
   "metadata": {},
   "outputs": [
    {
     "name": "stderr",
     "output_type": "stream",
     "text": [
      "'conda' is not recognized as an internal or external command,\n",
      "operable program or batch file.\n"
     ]
    }
   ],
   "source": [
    "! conda install -c conda-forge rdkit"
   ]
  },
  {
   "cell_type": "code",
   "execution_count": 4,
   "metadata": {},
   "outputs": [
    {
     "name": "stdout",
     "output_type": "stream",
     "text": [
      "Requirement already satisfied: rdkit-pypi in c:\\users\\rohan\\appdata\\local\\programs\\python\\python311\\lib\\site-packages (2022.9.5)\n",
      "Requirement already satisfied: numpy in c:\\users\\rohan\\appdata\\local\\programs\\python\\python311\\lib\\site-packages (from rdkit-pypi) (1.25.1)\n",
      "Requirement already satisfied: Pillow in c:\\users\\rohan\\appdata\\local\\programs\\python\\python311\\lib\\site-packages (from rdkit-pypi) (9.5.0)\n"
     ]
    }
   ],
   "source": [
    "! pip install rdkit-pypi\n"
   ]
  },
  {
   "cell_type": "code",
   "execution_count": 6,
   "metadata": {},
   "outputs": [],
   "source": [
    "from rdkit import Chem\n",
    "from rdkit.Chem import AllChem\n",
    "import pandas as pd\n",
    "\n",
    "# Load the Excel sheet\n",
    "df = pd.read_excel(\"C:\\\\Users\\\\rohan\\\\OneDrive\\\\Desktop\\\\Minor project and SAP\\\\SMILES data.xlsx\")\n",
    "\n",
    "# Define a function to calculate Topological Torsion Fingerprints\n",
    "def calculate_torsion_fingerprints(smiles):\n",
    "    mol = Chem.MolFromSmiles(smiles)\n",
    "    torsion_fp = AllChem.GetHashedTopologicalTorsionFingerprintAsBitVect(mol)\n",
    "    return torsion_fp.ToBitString()\n",
    "\n",
    "# Apply the function to each row of the dataframe\n",
    "df['Torsion Fingerprints'] = df['SMILES'].apply(calculate_torsion_fingerprints)\n",
    "\n",
    "# Save the updated dataframe back to the Excel sheet\n",
    "df.to_excel('Topological_torisonfor_SMILES.xlsx', index=False)"
   ]
  },
  {
   "cell_type": "code",
   "execution_count": null,
   "metadata": {},
   "outputs": [],
   "source": []
  }
 ],
 "metadata": {
  "kernelspec": {
   "display_name": "Python 3",
   "language": "python",
   "name": "python3"
  },
  "language_info": {
   "codemirror_mode": {
    "name": "ipython",
    "version": 3
   },
   "file_extension": ".py",
   "mimetype": "text/x-python",
   "name": "python",
   "nbconvert_exporter": "python",
   "pygments_lexer": "ipython3",
   "version": "3.11.4"
  },
  "orig_nbformat": 4
 },
 "nbformat": 4,
 "nbformat_minor": 2
}
