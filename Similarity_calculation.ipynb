{
 "cells": [
  {
   "cell_type": "code",
   "execution_count": 1,
   "metadata": {},
   "outputs": [],
   "source": [
    "import pandas as pd\n",
    "from rdkit import DataStructs\n",
    "from rdkit.Chem import AllChem\n",
    "\n",
    "\n",
    "df1 = pd.read_excel(\"C:\\\\Users\\\\rohan\\\\OneDrive\\\\Desktop\\\\for vs\\\\ML Model\\\\FINAL_smiles_with_fingerprints.xlsx\")  \n",
    "df2 = pd.read_excel('C:\\\\Users\\\\rohan\\\\OneDrive\\\\Desktop\\\\for vs\\\\ML Model\\\\Training Data set code\\\\Kinasedrugs_with__fingerprints.xlsx') "
   ]
  },
  {
   "cell_type": "code",
   "execution_count": 2,
   "metadata": {},
   "outputs": [],
   "source": [
    "from rdkit import DataStructs\n",
    "\n",
    "def calculate_similarity(fp1, fp2):\n",
    "    return DataStructs.TanimotoSimilarity(fp1, fp2)\n"
   ]
  },
  {
   "cell_type": "code",
   "execution_count": 3,
   "metadata": {},
   "outputs": [],
   "source": [
    "results = []\n",
    "\n",
    "for _, row1 in df1.iterrows():\n",
    "    smiles1 = row1['SMILES']\n",
    "    fp1 = DataStructs.CreateFromBitString(row1['Morgan_Fingerprint'])  \n",
    "\n",
    "    for _, row2 in df2.iterrows():\n",
    "        smiles2 = row2['SMILES']\n",
    "        fp2 = DataStructs.CreateFromBitString(row2['Morgan_Fingerprint'])  \n",
    "\n",
    "        similarity = calculate_similarity(fp1, fp2)\n",
    "        results.append((smiles1, smiles2, similarity))\n"
   ]
  },
  {
   "cell_type": "code",
   "execution_count": 4,
   "metadata": {},
   "outputs": [],
   "source": [
    "results.sort(key=lambda x: x[2], reverse=True)\n",
    "most_similar_pairs = results[:10]  "
   ]
  },
  {
   "cell_type": "code",
   "execution_count": 5,
   "metadata": {},
   "outputs": [],
   "source": [
    "result_df = pd.DataFrame(most_similar_pairs, columns=['SMILES_1', 'SMILES_2', 'Similarity'])\n",
    "result_df.to_excel('similar_pairs.xlsx', index=False)\n"
   ]
  },
  {
   "cell_type": "code",
   "execution_count": null,
   "metadata": {},
   "outputs": [],
   "source": []
  },
  {
   "cell_type": "code",
   "execution_count": null,
   "metadata": {},
   "outputs": [],
   "source": []
  }
 ],
 "metadata": {
  "kernelspec": {
   "display_name": "Python 3",
   "language": "python",
   "name": "python3"
  },
  "language_info": {
   "codemirror_mode": {
    "name": "ipython",
    "version": 3
   },
   "file_extension": ".py",
   "mimetype": "text/x-python",
   "name": "python",
   "nbconvert_exporter": "python",
   "pygments_lexer": "ipython3",
   "version": "3.11.4"
  },
  "orig_nbformat": 4
 },
 "nbformat": 4,
 "nbformat_minor": 2
}
