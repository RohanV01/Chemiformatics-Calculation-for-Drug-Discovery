{
 "cells": [
  {
   "cell_type": "markdown",
   "metadata": {},
   "source": []
  },
  {
   "cell_type": "code",
   "execution_count": 5,
   "metadata": {},
   "outputs": [
    {
     "name": "stdout",
     "output_type": "stream",
     "text": [
      "Requirement already satisfied: rdkit-pypi in c:\\users\\rohan\\appdata\\local\\programs\\python\\python311\\lib\\site-packages (2022.9.5)\n",
      "Requirement already satisfied: numpy in c:\\users\\rohan\\appdata\\local\\programs\\python\\python311\\lib\\site-packages (from rdkit-pypi) (1.25.1)\n",
      "Requirement already satisfied: Pillow in c:\\users\\rohan\\appdata\\local\\programs\\python\\python311\\lib\\site-packages (from rdkit-pypi) (9.5.0)\n"
     ]
    }
   ],
   "source": [
    "! pip install rdkit-pypi\n",
    "\n",
    "import pandas as pd\n",
    "from rdkit import Chem\n",
    "from rdkit.Chem import Descriptors\n",
    "\n",
    "excel_file_path = \"C:\\\\Users\\\\rohan\\\\OneDrive\\\\Desktop\\\\Minor Project and SAP\\\\SMILES data.xlsx\"\n",
    "df = pd.read_excel(excel_file_path)\n",
    "\n",
    "\n",
    "descriptors = []\n",
    "for smiles in df['SMILES']:\n",
    "    mol = Chem.MolFromSmiles(smiles)\n",
    "    if mol is not None:\n",
    "        descriptor_values = {\n",
    "            \"MolWt\": Descriptors.MolWt(mol),\n",
    "            \"TPSA\": Descriptors.TPSA(mol),\n",
    "            \"LogP\": Descriptors.MolLogP(mol),\n",
    "            \"NumAtoms\": mol.GetNumAtoms(),\n",
    "            \"NumBonds\": mol.GetNumBonds(),\n",
    "            \"RotatableBonds\": Descriptors.NumRotatableBonds(mol),\n",
    "            \"HBDCount\": Descriptors.NumHDonors(mol),\n",
    "            \"HBAccCount\": Descriptors.NumHAcceptors(mol),\n",
    "            \"NumRings\": Descriptors.RingCount(mol),\n",
    "            \"AromaticProportion\": Descriptors.FractionCSP3(mol),\n",
    "            # Add more descriptors as needed\n",
    "        }\n",
    "        descriptors.append(descriptor_values)\n",
    "    else:\n",
    "        descriptors.append(None)\n",
    "\n",
    "\n",
    "descriptors_df = pd.DataFrame(descriptors)\n",
    "\n",
    "\n",
    "result_df = pd.concat([df, descriptors_df], axis=1)\n",
    "\n",
    "result_df.to_excel(\"descriptors_result.xlsx\", index=False)\n"
   ]
  },
  {
   "cell_type": "code",
   "execution_count": null,
   "metadata": {},
   "outputs": [],
   "source": []
  }
 ],
 "metadata": {
  "kernelspec": {
   "display_name": "Python 3",
   "language": "python",
   "name": "python3"
  },
  "language_info": {
   "codemirror_mode": {
    "name": "ipython",
    "version": 3
   },
   "file_extension": ".py",
   "mimetype": "text/x-python",
   "name": "python",
   "nbconvert_exporter": "python",
   "pygments_lexer": "ipython3",
   "version": "3.11.4"
  },
  "orig_nbformat": 4
 },
 "nbformat": 4,
 "nbformat_minor": 2
}
