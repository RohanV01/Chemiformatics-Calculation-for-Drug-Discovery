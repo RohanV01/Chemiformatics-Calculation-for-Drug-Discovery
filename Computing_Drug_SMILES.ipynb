{
 "cells": [
  {
   "cell_type": "code",
   "execution_count": 1,
   "metadata": {},
   "outputs": [
    {
     "name": "stderr",
     "output_type": "stream",
     "text": [
      "ERROR: Could not find a version that satisfies the requirement openpyx1 (from versions: none)\n",
      "ERROR: No matching distribution found for openpyx1\n"
     ]
    },
    {
     "name": "stdout",
     "output_type": "stream",
     "text": [
      "Requirement already satisfied: chembl-webresource-client in c:\\users\\rohan\\appdata\\local\\programs\\python\\python311\\lib\\site-packages (0.10.8)\n",
      "Requirement already satisfied: pandas in c:\\users\\rohan\\appdata\\local\\programs\\python\\python311\\lib\\site-packages (2.0.3)\n"
     ]
    }
   ],
   "source": [
    "! pip install chembl-webresource-client pandas openpyx1\n",
    "import pandas as pd\n",
    "from chembl_webresource_client import new_client"
   ]
  },
  {
   "cell_type": "code",
   "execution_count": null,
   "metadata": {},
   "outputs": [],
   "source": [
    "excel_file_path = \"C:\\\\Users\\\\rohan\\\\OneDrive\\\\Desktop\\\\Minor project and SAP\\\\Inhibitors_data.xlsx\"\n",
    "df = pd.read_excel(\"C:\\\\Users\\\\rohan\\\\OneDrive\\\\Desktop\\\\Minor project and SAP\\\\Inhibitors_data.xlsx\")"
   ]
  }
 ],
 "metadata": {
  "kernelspec": {
   "display_name": "Python 3",
   "language": "python",
   "name": "python3"
  },
  "language_info": {
   "codemirror_mode": {
    "name": "ipython",
    "version": 3
   },
   "file_extension": ".py",
   "mimetype": "text/x-python",
   "name": "python",
   "nbconvert_exporter": "python",
   "pygments_lexer": "ipython3",
   "version": "3.11.4"
  },
  "orig_nbformat": 4
 },
 "nbformat": 4,
 "nbformat_minor": 2
}
