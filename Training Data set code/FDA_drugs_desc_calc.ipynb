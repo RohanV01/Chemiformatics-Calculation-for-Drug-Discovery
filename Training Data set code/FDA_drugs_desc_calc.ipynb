{
 "cells": [
  {
   "cell_type": "code",
   "execution_count": null,
   "metadata": {},
   "outputs": [],
   "source": [
    "! pip install rdkit-pypi"
   ]
  },
  {
   "cell_type": "code",
   "execution_count": 3,
   "metadata": {},
   "outputs": [],
   "source": [
    "import pandas as pd\n",
    "from rdkit import Chem\n",
    "from rdkit.Chem import Descriptors"
   ]
  },
  {
   "cell_type": "code",
   "execution_count": 4,
   "metadata": {},
   "outputs": [],
   "source": [
    "excel_file_path = \"C:\\\\Users\\\\rohan\\\\OneDrive\\\\Desktop\\\\Minor Project and SAP\\\\Main List of all FDA Approved drugs.xlsx\"\n",
    "df = pd.read_excel(excel_file_path)"
   ]
  },
  {
   "cell_type": "code",
   "execution_count": null,
   "metadata": {},
   "outputs": [],
   "source": [
    "descriptors = []\n",
    "for smiles in df['List of Drugs']:\n",
    "    mol = Chem.MolFromSmiles(smiles)\n",
    "    if mol is not None:\n",
    "        descriptor_values = {\n",
    "            \"MolWt\": Descriptors.MolWt(mol),\n",
    "            \"TPSA\": Descriptors.TPSA(mol),\n",
    "            \"LogP\": Descriptors.MolLogP(mol),\n",
    "            \"NumAtoms\": mol.GetNumAtoms(),\n",
    "            \"NumBonds\": mol.GetNumBonds(),\n",
    "            \"RotatableBonds\": Descriptors.NumRotatableBonds(mol),\n",
    "            \"HBDCount\": Descriptors.NumHDonors(mol),\n",
    "            \"HBAccCount\": Descriptors.NumHAcceptors(mol),\n",
    "            \"NumRings\": Descriptors.RingCount(mol),\n",
    "            \"AromaticProportion\": Descriptors.FractionCSP3(mol),\n",
    "            # Add more descriptors as needed\n",
    "        }\n",
    "        descriptors.append(descriptor_values)\n",
    "    else:\n",
    "        descriptors.append(None)\n",
    "\n",
    "\n",
    "descriptors_df = pd.DataFrame(descriptors)\n",
    "\n",
    "\n",
    "result_df = pd.concat([df, descriptors_df], axis=1)\n",
    "\n",
    "result_df.to_excel(\"FDA_drugs_descriptors_result.xlsx\", index=False)\n"
   ]
  },
  {
   "cell_type": "code",
   "execution_count": null,
   "metadata": {},
   "outputs": [],
   "source": []
  }
 ],
 "metadata": {
  "kernelspec": {
   "display_name": "Python 3",
   "language": "python",
   "name": "python3"
  },
  "language_info": {
   "codemirror_mode": {
    "name": "ipython",
    "version": 3
   },
   "file_extension": ".py",
   "mimetype": "text/x-python",
   "name": "python",
   "nbconvert_exporter": "python",
   "pygments_lexer": "ipython3",
   "version": "3.11.4"
  },
  "orig_nbformat": 4
 },
 "nbformat": 4,
 "nbformat_minor": 2
}
