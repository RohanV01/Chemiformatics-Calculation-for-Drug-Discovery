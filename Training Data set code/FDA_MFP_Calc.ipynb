{
 "cells": [
  {
   "cell_type": "code",
   "execution_count": 1,
   "metadata": {},
   "outputs": [
    {
     "name": "stderr",
     "output_type": "stream",
     "text": [
      "[14:41:02] WARNING: not removing hydrogen atom without neighbors\n",
      "[14:41:02] WARNING: not removing hydrogen atom without neighbors\n",
      "[14:41:02] WARNING: not removing hydrogen atom without neighbors\n"
     ]
    }
   ],
   "source": [
    "import pandas as pd\n",
    "from rdkit import Chem\n",
    "from rdkit.Chem import AllChem\n",
    "\n",
    "excel_file = \"C:\\\\Users\\\\rohan\\\\OneDrive\\\\Desktop\\\\Minor project and SAP\\\\FDA drugs for Kinase proteins.xlsx\"\n",
    "df = pd.read_excel(excel_file)\n",
    "\n",
    "# Compute Morgan Fingerprints\n",
    "morgan_fps = []\n",
    "for smiles in df['SMILES']:\n",
    "    mol = Chem.MolFromSmiles(smiles)\n",
    "    if mol is not None:\n",
    "        fp = AllChem.GetMorganFingerprintAsBitVect(mol, 2, nBits=1024)\n",
    "        morgan_fps.append(fp)\n",
    "\n",
    "# Add Morgan Fingerprints to DataFrame\n",
    "df['Morgan_Fingerprint'] = morgan_fps\n",
    "\n",
    "# Save DataFrame with Morgan Fingerprints to Excel\n",
    "df.to_excel('FDA_DRUGS_with_fingerprints.xlsx', index=False)"
   ]
  },
  {
   "cell_type": "code",
   "execution_count": 4,
   "metadata": {},
   "outputs": [
    {
     "name": "stderr",
     "output_type": "stream",
     "text": [
      "[14:42:11] WARNING: not removing hydrogen atom without neighbors\n",
      "[14:42:11] WARNING: not removing hydrogen atom without neighbors\n",
      "[14:42:11] WARNING: not removing hydrogen atom without neighbors\n"
     ]
    }
   ],
   "source": [
    "from rdkit import Chem\n",
    "from rdkit.Chem import AllChem\n",
    "import pandas as pd\n",
    "\n",
    "excel_file = \"C:\\\\Users\\\\rohan\\\\OneDrive\\\\Desktop\\\\Minor project and SAP\\\\FDA drugs for Kinase proteins.xlsx\"\n",
    "df = pd.read_excel(excel_file)\n",
    "\n",
    "# Initialize a list to store fingerprints\n",
    "morgan_fps = []\n",
    "\n",
    "# Compute Morgan Fingerprints\n",
    "for smiles in df['SMILES']:\n",
    "    mol = Chem.MolFromSmiles(smiles)\n",
    "    if mol is not None:\n",
    "        fp = AllChem.GetMorganFingerprintAsBitVect(mol, 2, nBits=1024)\n",
    "        morgan_fps.append(fp.ToBitString())\n",
    "\n",
    "# Add Morgan Fingerprints to DataFrame\n",
    "df['Morgan_Fingerprint'] = morgan_fps\n",
    "\n",
    "# Save DataFrame with Morgan Fingerprints to Excel\n",
    "df.to_excel('Kinasedrugs_with__fingerprints.xlsx', index=False)"
   ]
  },
  {
   "cell_type": "code",
   "execution_count": null,
   "metadata": {},
   "outputs": [],
   "source": []
  }
 ],
 "metadata": {
  "kernelspec": {
   "display_name": "Python 3",
   "language": "python",
   "name": "python3"
  },
  "language_info": {
   "codemirror_mode": {
    "name": "ipython",
    "version": 3
   },
   "file_extension": ".py",
   "mimetype": "text/x-python",
   "name": "python",
   "nbconvert_exporter": "python",
   "pygments_lexer": "ipython3",
   "version": "3.11.4"
  },
  "orig_nbformat": 4
 },
 "nbformat": 4,
 "nbformat_minor": 2
}
