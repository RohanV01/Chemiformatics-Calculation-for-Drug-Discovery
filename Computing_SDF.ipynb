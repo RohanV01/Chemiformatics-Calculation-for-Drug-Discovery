{
 "cells": [
  {
   "cell_type": "code",
   "execution_count": null,
   "metadata": {},
   "outputs": [],
   "source": [
    "! pip install rdkit\n"
   ]
  },
  {
   "cell_type": "code",
   "execution_count": 1,
   "metadata": {},
   "outputs": [
    {
     "name": "stdout",
     "output_type": "stream",
     "text": [
      "SDF file created successfully.\n"
     ]
    }
   ],
   "source": [
    "from rdkit import Chem\n",
    "from rdkit.Chem import PandasTools\n",
    "import pandas as pd\n",
    "\n",
    "\n",
    "excel_file = \"your file path\"\n",
    "df = pd.read_excel(excel_file)\n",
    "\n",
    "\n",
    "df['Molecule'] = df['SMILES'].apply(Chem.MolFromSmiles)\n",
    "\n",
    "\n",
    "df = df.dropna(subset=['Molecule'])\n",
    "\n",
    "\n",
    "PandasTools.WriteSDF(df, \"updated_sdf_file.sdf\", molColName='Molecule')\n",
    "\n",
    "print(\"SDF file created successfully.\")"
   ]
  },
  {
   "cell_type": "code",
   "execution_count": null,
   "metadata": {},
   "outputs": [],
   "source": []
  }
 ],
 "metadata": {
  "kernelspec": {
   "display_name": "Python 3",
   "language": "python",
   "name": "python3"
  },
  "language_info": {
   "codemirror_mode": {
    "name": "ipython",
    "version": 3
   },
   "file_extension": ".py",
   "mimetype": "text/x-python",
   "name": "python",
   "nbconvert_exporter": "python",
   "pygments_lexer": "ipython3",
   "version": "3.11.4"
  },
  "orig_nbformat": 4
 },
 "nbformat": 4,
 "nbformat_minor": 2
}
