{
 "cells": [
  {
   "cell_type": "code",
   "execution_count": 1,
   "metadata": {},
   "outputs": [
    {
     "name": "stdout",
     "output_type": "stream",
     "text": [
      "Requirement already satisfied: rdkit in c:\\users\\rohan\\appdata\\local\\programs\\python\\python311\\lib\\site-packages (2023.3.2)\n",
      "Requirement already satisfied: numpy in c:\\users\\rohan\\appdata\\local\\programs\\python\\python311\\lib\\site-packages (from rdkit) (1.25.1)\n",
      "Requirement already satisfied: Pillow in c:\\users\\rohan\\appdata\\local\\programs\\python\\python311\\lib\\site-packages (from rdkit) (9.5.0)\n"
     ]
    }
   ],
   "source": [
    "! pip install rdkit\n"
   ]
  },
  {
   "cell_type": "code",
   "execution_count": 2,
   "metadata": {},
   "outputs": [
    {
     "name": "stdout",
     "output_type": "stream",
     "text": [
      "SDF file created successfully.\n"
     ]
    }
   ],
   "source": [
    "from rdkit import Chem\n",
    "from rdkit.Chem import PandasTools\n",
    "import pandas as pd\n",
    "\n",
    "\n",
    "excel_file = \"C:\\\\Users\\\\rohan\\\\OneDrive\\\\Desktop\\\\Minor project and SAP\\\\SMILES data.xlsx\"\n",
    "df = pd.read_excel(excel_file)\n",
    "\n",
    "\n",
    "df['Molecule'] = df['SMILES'].apply(Chem.MolFromSmiles)\n",
    "\n",
    "\n",
    "df = df.dropna(subset=['Molecule'])\n",
    "\n",
    "\n",
    "PandasTools.WriteSDF(df, \"updated_sdf_file.sdf\", molColName='Molecule')\n",
    "\n",
    "print(\"SDF file created successfully.\")\n"
   ]
  },
  {
   "cell_type": "code",
   "execution_count": null,
   "metadata": {},
   "outputs": [],
   "source": []
  }
 ],
 "metadata": {
  "kernelspec": {
   "display_name": "Python 3",
   "language": "python",
   "name": "python3"
  },
  "language_info": {
   "codemirror_mode": {
    "name": "ipython",
    "version": 3
   },
   "file_extension": ".py",
   "mimetype": "text/x-python",
   "name": "python",
   "nbconvert_exporter": "python",
   "pygments_lexer": "ipython3",
   "version": "3.11.4"
  },
  "orig_nbformat": 4
 },
 "nbformat": 4,
 "nbformat_minor": 2
}
