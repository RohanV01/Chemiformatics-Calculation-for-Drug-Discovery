{
 "cells": [
  {
   "cell_type": "code",
   "execution_count": null,
   "metadata": {},
   "outputs": [],
   "source": [
    "! pip install chembl-webresource-client pandas openpyxl\n",
    "import pandas as pd\n",
    "from chembl_webresource_client.new_client import new_client\n",
    "import time"
   ]
  },
  {
   "cell_type": "code",
   "execution_count": null,
   "metadata": {},
   "outputs": [],
   "source": [
    "from requests.exceptions import RequestException\n",
    "\n",
    "import pandas as pd\n",
    "\n",
    "excel_file_path = \"C:\\\\Users\\\\rohan\\\\OneDrive\\\\Desktop\\\\Minor project and SAP\\\\List of Metabolites.xlsx\"\n",
    "df = pd.read_excel(\"C:\\\\Users\\\\rohan\\\\OneDrive\\\\Desktop\\\\Minor project and SAP\\\\List of Metabolites.xlsx\")\n",
    "\n",
    "chembl = new_client\n",
    "\n",
    "def get_smiles(compound_name):\n",
    "    try:\n",
    "        compound_name = chembl.molecule.filter(pref_name__iexact=compound_name).only(['molecule_structures'])\n",
    "        if compound_name:\n",
    "            return compound_name[0]['molecule_structures']['canonical_smiles'] if 'canonical_smiles' in compound_name[0]['molecule_structures'] else None\n",
    "        else:\n",
    "            return None\n",
    "    except Exception as e:\n",
    "        print(f\"Error fetching SMILES for '{compound_name}': {e}\")\n",
    "        return None\n",
    "\n",
    "\n",
    "df['SMILES'] = df['Name of Compound'].apply(get_smiles)\n",
    "\n",
    "updated_excel_file_path = \"C:\\\\Users\\\\rohan\\\\OneDrive\\\\Desktop\\\\Minor project and SAP\\\\Compounds with SMILES.xlsx\"\n",
    "df.to_excel(updated_excel_file_path, index=False)"
   ]
  },
  {
   "cell_type": "code",
   "execution_count": null,
   "metadata": {},
   "outputs": [],
   "source": []
  }
 ],
 "metadata": {
  "kernelspec": {
   "display_name": "Python 3",
   "language": "python",
   "name": "python3"
  },
  "language_info": {
   "codemirror_mode": {
    "name": "ipython",
    "version": 3
   },
   "file_extension": ".py",
   "mimetype": "text/x-python",
   "name": "python",
   "nbconvert_exporter": "python",
   "pygments_lexer": "ipython3",
   "version": "3.11.4"
  },
  "orig_nbformat": 4
 },
 "nbformat": 4,
 "nbformat_minor": 2
}
